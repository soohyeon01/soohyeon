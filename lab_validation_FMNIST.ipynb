{
 "cells": [
  {
   "cell_type": "markdown",
   "metadata": {},
   "source": [
    "# Classifying Fashion-MNIST\n",
    "\n",
    "* 이번 실습에서는 지난 시간과 거의 유사한 작업을 Fashion-MNIST dataset에 대해서 수행하겠습니다\n",
    "\n",
    "* Fashion-MNIST 는 28x28 흑백으로 된 의류 image입니다\n",
    "* 숫자를 표현한 MNIST 보다는 더 복잡한 image가 되어, NN의 성능을 시험해보기 조금 더 난해한 dataset 입니다 (물론 지금 시대에는 여전히 쉬운 작업입니다)\n",
    "\n",
    "* dataset에 대한 그림은 아래와 같습니다\n",
    "\n",
    "\n",
    "![Classnote](https://drive.google.com/uc?export=download&id=1jS383QGptWGFyDrVO0i8Eo7BwXqV5epq)\n",
    "\n",
    "* 작업은 여러분이 처음부터 끝까지 코딩을 하시면 됩니다\n",
    "* 전체적인 흐름은 지난 주 숙제와 동일하기 때문에 (결국 10개의 의상 종류로 분류합니다) 지난 주 숙제 solution이나 본인이 짠 부분을 대부분 가져와서 해보시면 됩니다.\n",
    "\n",
    "* 아래는 dataset을 준비하는 과정입니다"
   ]
  },
  {
   "cell_type": "code",
   "execution_count": 1,
   "metadata": {},
   "outputs": [],
   "source": [
    "import torch\n",
    "from torchvision import datasets, transforms\n",
    "import helper"
   ]
  },
  {
   "cell_type": "code",
   "execution_count": 2,
   "metadata": {},
   "outputs": [],
   "source": [
    "transform = transforms.Compose([transforms.ToTensor()])\n",
    "trainset = datasets.FashionMNIST('~/.pytorch/F_MNIST_data/', download=True, train=True, transform=transform)\n",
    "trainloader = torch.utils.data.DataLoader(trainset, batch_size=2000, shuffle=True)"
   ]
  },
  {
   "cell_type": "code",
   "execution_count": 3,
   "metadata": {},
   "outputs": [],
   "source": [
    "images, labels = next(iter(trainloader))"
   ]
  },
  {
   "cell_type": "code",
   "execution_count": 4,
   "metadata": {},
   "outputs": [
    {
     "data": {
      "text/plain": [
       "torch.Size([2000, 1, 28, 28])"
      ]
     },
     "execution_count": 4,
     "metadata": {},
     "output_type": "execute_result"
    }
   ],
   "source": [
    "images.shape"
   ]
  },
  {
   "cell_type": "code",
   "execution_count": 5,
   "metadata": {},
   "outputs": [
    {
     "data": {
      "text/plain": [
       "tensor(0.2833)"
      ]
     },
     "execution_count": 5,
     "metadata": {},
     "output_type": "execute_result"
    }
   ],
   "source": [
    "torch.mean(images)"
   ]
  },
  {
   "cell_type": "code",
   "execution_count": 6,
   "metadata": {},
   "outputs": [
    {
     "data": {
      "text/plain": [
       "tensor(0.3511)"
      ]
     },
     "execution_count": 6,
     "metadata": {},
     "output_type": "execute_result"
    }
   ],
   "source": [
    "torch.std(images)"
   ]
  },
  {
   "cell_type": "code",
   "execution_count": 7,
   "metadata": {},
   "outputs": [],
   "source": [
    "device = 'cpu'\n",
    "if torch.cuda.is_available():\n",
    "    device = 'cuda'"
   ]
  },
  {
   "cell_type": "code",
   "execution_count": 8,
   "metadata": {},
   "outputs": [
    {
     "data": {
      "text/plain": [
       "False"
      ]
     },
     "execution_count": 8,
     "metadata": {},
     "output_type": "execute_result"
    }
   ],
   "source": [
    "torch.cuda.is_available()"
   ]
  },
  {
   "cell_type": "code",
   "execution_count": 9,
   "metadata": {},
   "outputs": [],
   "source": [
    "# Define a transform to normalize the data\n",
    "transform = transforms.Compose([transforms.ToTensor(),\n",
    "                                transforms.Normalize((0.28,), (0.35,))])\n",
    "\n",
    "# Download and load the training data\n",
    "trainset = datasets.FashionMNIST('~/.pytorch/F_MNIST_data/', download=True, train=True, transform=transform)\n",
    "trainloader = torch.utils.data.DataLoader(trainset, batch_size=64, shuffle=True)\n",
    "\n",
    "# Download and load the test data\n",
    "valset = datasets.FashionMNIST('~/.pytorch/F_MNIST_data/', download=True, train=False, transform=transform)\n",
    "valloader = torch.utils.data.DataLoader(valset, batch_size=64, shuffle=True)"
   ]
  },
  {
   "cell_type": "markdown",
   "metadata": {},
   "source": [
    "* 아래 명령으로 이미지 중에 한개를 살펴봐서 준비가 되었는지 확인해 봅시다"
   ]
  },
  {
   "cell_type": "code",
   "execution_count": 10,
   "metadata": {
    "scrolled": true,
    "tags": []
   },
   "outputs": [
    {
     "data": {
      "image/png": "[encoded data removed]",
      "text/plain": [
       "<Figure size 640x480 with 1 Axes>"
      ]
     },
     "metadata": {},
     "output_type": "display_data"
    }
   ],
   "source": [
    "image, label = next(iter(trainloader))\n",
    "helper.imshow(image[0,:]);"
   ]
  },
  {
   "cell_type": "markdown",
   "metadata": {},
   "source": [
    "### Problem 1\n",
    "\n",
    "* 이미지가 28x28인 점을 고려하여 지난주에 벡터로 변환하는 작업을 수행하고\n",
    "* fc1,...,fc4 까지 linear layer를 만드시고\n",
    "* 최종 output layer fc4는 10개 분류 작업을 할 수 있도록 구성\n",
    "\n",
    "* Activation 함수는 ReLU, 최종 layer는 linear layer 만 연산\n",
    "* Cost function 정의\n",
    "* autograd, optimizer를 사용하여 training 수행 \n",
    "* fc1 는 256의 크기로 구성\n",
    "* fc2 는 128의 크기로 구성\n",
    "* fc3 는 64의 크기로 구성\n",
    "* epoch수는 5"
   ]
  },
  {
   "cell_type": "code",
   "execution_count": 11,
   "metadata": {},
   "outputs": [],
   "source": [
    "from torch import nn, optim\n",
    "import torch.nn.functional as F\n",
    "\n",
    "class Classifier(nn.Module):\n",
    "    def __init__(self):\n",
    "        super().__init__()\n",
    "        \n",
    "        self.fc1 = nn.Linear(784, 256)\n",
    "        self.fc2 = nn.Linear(256, 128)\n",
    "        self.fc3 = nn.Linear(128, 64)\n",
    "        self.fc4 = nn.Linear(64, 10)\n",
    "\n",
    "    def forward(self, x):\n",
    "       \n",
    "        x = F.relu(self.fc1(x))\n",
    "        x = F.relu(self.fc2(x))\n",
    "        x = F.relu(self.fc3(x))\n",
    "        x = self.fc4(x)\n",
    "\n",
    "        return x\n",
    "    ###############"
   ]
  },
  {
   "cell_type": "markdown",
   "metadata": {},
   "source": [
    "### Problem 2: Training the network"
   ]
  },
  {
   "cell_type": "code",
   "execution_count": 12,
   "metadata": {},
   "outputs": [
    {
     "name": "stdout",
     "output_type": "stream",
     "text": [
      "Training loss: 0.4822583250971491\n",
      "Training loss: 0.36937785375791826\n",
      "Training loss: 0.3336082381893323\n",
      "Training loss: 0.3120561550770487\n",
      "Training loss: 0.2962507968152891\n"
     ]
    }
   ],
   "source": [
    "# TODO: 네트워크를 training 하세요 (epoch는 5번으로 하죠)\n",
    "model = Classifier()\n",
    "model.to(device)\n",
    "criterion = nn.CrossEntropyLoss()\n",
    "optimizer = optim.Adam(model.parameters(), lr=0.003)\n",
    "\n",
    "epochs = 5\n",
    "\n",
    "for e in range(epochs):\n",
    "    running_loss = 0\n",
    "    for images, labels in trainloader:\n",
    "        images = images.reshape(images.shape[0],-1).to(device)\n",
    "        labels = labels.to(device)\n",
    "        \n",
    "        #### 답 작성\n",
    "        logits = model(images)\n",
    "        loss = criterion(logits, labels)\n",
    "        \n",
    "        optimizer.zero_grad()\n",
    "        loss.backward()\n",
    "        optimizer.step()\n",
    "        \n",
    "        #### \n",
    "        \n",
    "        running_loss += loss.item()\n",
    "    \n",
    "    print(f\"Training loss: {running_loss/len(trainloader)}\")"
   ]
  },
  {
   "cell_type": "code",
   "execution_count": 13,
   "metadata": {},
   "outputs": [
    {
     "data": {
      "image/png": "[encoded data removed]",
      "text/plain": [
       "<Figure size 600x900 with 2 Axes>"
      ]
     },
     "metadata": {
      "image/png": {
       "height": 301,
       "width": 589
      }
     },
     "output_type": "display_data"
    }
   ],
   "source": [
    "%matplotlib inline\n",
    "%config InlineBackend.figure_format = 'retina'\n",
    "\n",
    "# Test out your network!\n",
    "\n",
    "images, labels = next(iter(valloader))\n",
    "img = images[1].reshape(1,-1)\n",
    "img = img.to(device)\n",
    "\n",
    "# log softmax 값을 softmax로 변환하여 확률값을 저장\n",
    "logits = model(img)\n",
    "sm = nn.Softmax(dim=1)   # 각 column 별로 softmax 적용\n",
    "ps = sm(logits)\n",
    "\n",
    "# Plot the image and probabilities\n",
    "helper.view_classify(img.to('cpu'), ps.cpu(), version='Fashion')"
   ]
  },
  {
   "cell_type": "markdown",
   "metadata": {},
   "source": [
    "# Part 2: Inference and Validation\n",
    "\n",
    "* 지금까지는 network를 training하는 방법에 대해서 알아보았습니다\n",
    "* Training 된 network를 활용하여 예측 (prediction)을 하는 것을 ML 용어로 inference라고 합니다\n",
    "* Training된 network를 새로운 데이터에 대해서도 좋은 성능을 갖게하는 것을 generalization 이라고 합니다 \n",
    "* 하지만, neural network (또는 모든 ML)은  training 된 데이터에 너무 최적화되어, 새로운 데이터에대해서 성능이 떨어지는 (generalization 이 안되는) 문제가 발생합니다. 이런 현상을  **overfitting** 이라고 합니다\n",
    "* **Generalization** 이 잘되어서 **overfitting** 안일어났는지 확인하는 작업을 **validation** set으로 data를 분리하여 수행합니다\n",
    "* Overfitting이 일어나지 않도록 처리하는 여러 기법을 **regularization** 이라고 하며, 대표적으로 **dropout**과 같은것이 있습니다\n",
    "* 이번 실습에서는 **validation**에 대해서 알아보겠습니다\n",
    "\n",
    "* dataset 은 torchvision을 통해서 load하겠습니다\n",
    "* Torchvision에 대한 자세한 기능은 차차 배우기로 학고, 우선은 테스트 세트를 load하기 위해서 `train=False` 로 설정합니다\n",
    "\n",
    "```python\n",
    "valset = datasets.FashionMNIST('~/.pytorch/F_MNIST_data/', download=True, train=False, transform=transform)\n",
    "```\n",
    "\n",
    "* validation set은 trainging set과 비슷한 구조를 갖습니다"
   ]
  },
  {
   "cell_type": "markdown",
   "metadata": {},
   "source": [
    "* 본 작업에 목적은 training set에 포함하지 않은 data에 대해서 성능을 측정하는 것입니다\n",
    "* 여기서 성능은 개발자에 의해서 용도에 맞게 설정합니다 \n",
    "* 본 과제에서는 정확도 관점에서 성능을 측정학겠습니다\n",
    "  - 즉 분류를 성공과 실패로 보고 성공의 비율을 측정합니다\n",
    "* 기타 성능 측정을 위한 방법은 [precision and recall](https://en.wikipedia.org/wiki/Precision_and_recall#Definition_(classification_context)) 과 top-5 error rate 등이 있습니다\n",
    "* 시작으로, 한개에 batch에 대한 forward pass를 실행합니다"
   ]
  },
  {
   "cell_type": "code",
   "execution_count": 14,
   "metadata": {},
   "outputs": [
    {
     "name": "stdout",
     "output_type": "stream",
     "text": [
      "torch.Size([64, 10])\n"
     ]
    }
   ],
   "source": [
    "model = Classifier()\n",
    "\n",
    "images, labels = next(iter(valloader))\n",
    "\n",
    "# Get the class probabilities\n",
    "images = images.reshape(images.shape[0],-1)\n",
    "logits = model(images)\n",
    "ps = sm(logits)\n",
    "# Make sure the shape is appropriate, we should get 10 class probabilities for 64 examples\n",
    "print(ps.shape)"
   ]
  },
  {
   "cell_type": "markdown",
   "metadata": {},
   "source": [
    "* 출력은 각 classification 항목에 대한 확률 분포로 출력됩니다\n",
    "* `ps.topk` method로 $k$개의 활률 값이 가장 높은 value와 index를 tuple로 받습니다\n",
    "* 가장 높은 가능성으로 분류를 하고자하니, `ps.topk(1)`를 사용합니다\n",
    "* 예를 들어서 가장 높은 value가 5번째이면 index 4를 받습니다"
   ]
  },
  {
   "cell_type": "code",
   "execution_count": 15,
   "metadata": {},
   "outputs": [
    {
     "name": "stdout",
     "output_type": "stream",
     "text": [
      "tensor([[3],\n",
      "        [3],\n",
      "        [3],\n",
      "        [3],\n",
      "        [6],\n",
      "        [3],\n",
      "        [3],\n",
      "        [3],\n",
      "        [3],\n",
      "        [6]])\n",
      "tensor([[0.1146],\n",
      "        [0.1192],\n",
      "        [0.1178],\n",
      "        [0.1137],\n",
      "        [0.1155],\n",
      "        [0.1141],\n",
      "        [0.1146],\n",
      "        [0.1161],\n",
      "        [0.1158],\n",
      "        [0.1132]], grad_fn=<SliceBackward0>)\n"
     ]
    },
    {
     "data": {
      "text/plain": [
       "torch.Size([64, 1])"
      ]
     },
     "execution_count": 15,
     "metadata": {},
     "output_type": "execute_result"
    }
   ],
   "source": [
    "top_p, top_class = ps.topk(1, dim=1)\n",
    "# Look at the most likely classes for the first 10 examples\n",
    "print(top_class[:10,:])   # 인덱스\n",
    "print(top_p[:10,:])       # 값 자체\n",
    "top_class.shape"
   ]
  },
  {
   "cell_type": "code",
   "execution_count": 16,
   "metadata": {},
   "outputs": [
    {
     "data": {
      "text/plain": [
       "tensor([[0.0936, 0.0883, 0.1033, 0.1146, 0.0912, 0.1101, 0.1121, 0.0894, 0.0907,\n",
       "         0.1067],\n",
       "        [0.0906, 0.0901, 0.1037, 0.1192, 0.0944, 0.1115, 0.1105, 0.0896, 0.0904,\n",
       "         0.1001],\n",
       "        [0.0946, 0.0901, 0.1047, 0.1178, 0.1003, 0.1048, 0.1082, 0.0865, 0.0918,\n",
       "         0.1011],\n",
       "        [0.0915, 0.0884, 0.1038, 0.1137, 0.0951, 0.1091, 0.1121, 0.0898, 0.0920,\n",
       "         0.1044],\n",
       "        [0.0912, 0.0903, 0.1036, 0.1144, 0.0934, 0.1063, 0.1155, 0.0886, 0.0898,\n",
       "         0.1069],\n",
       "        [0.0927, 0.0914, 0.1046, 0.1141, 0.0937, 0.1100, 0.1124, 0.0872, 0.0890,\n",
       "         0.1049],\n",
       "        [0.0956, 0.0881, 0.1061, 0.1146, 0.0963, 0.1063, 0.1134, 0.0877, 0.0888,\n",
       "         0.1032],\n",
       "        [0.0922, 0.0907, 0.1033, 0.1161, 0.0927, 0.1100, 0.1127, 0.0865, 0.0885,\n",
       "         0.1073],\n",
       "        [0.0912, 0.0902, 0.1047, 0.1158, 0.0950, 0.1079, 0.1116, 0.0898, 0.0879,\n",
       "         0.1058],\n",
       "        [0.0922, 0.0925, 0.1038, 0.1130, 0.0938, 0.1064, 0.1132, 0.0899, 0.0903,\n",
       "         0.1050]], grad_fn=<SliceBackward0>)"
      ]
     },
     "execution_count": 16,
     "metadata": {},
     "output_type": "execute_result"
    }
   ],
   "source": [
    "ps[:10,:]"
   ]
  },
  {
   "cell_type": "markdown",
   "metadata": {},
   "source": [
    "* 지금까지 네트워크에서 출력한 확률분포에서 가장 높은 확률값의 index를 64개 찾았습니다\n",
    "* 이제 `top_class`와 `labels`를 비교하여 몇개를 맞췄는지 확인을 해야합니다\n",
    "* 차원이 맞는 tensor 간에 `==`를 해서 비교합니다 (테스트 해보세요!)\n",
    "* 다음을 실행하면 원하는 답이 나오지 않습니다\n",
    "* `top_class`와 `labels`의 shape를 비교 해보고 싶은 생각이 드셔야합니다\n",
    "```python\n",
    "equals = top_class == labels\n",
    "```\n",
    "* (참고) broadcasting으로 `==` 연산이 일어난것이며, 우리가 원하는 연산은 아닙니다 "
   ]
  },
  {
   "cell_type": "code",
   "execution_count": 17,
   "metadata": {},
   "outputs": [
    {
     "data": {
      "text/plain": [
       "torch.Size([64])"
      ]
     },
     "execution_count": 17,
     "metadata": {},
     "output_type": "execute_result"
    }
   ],
   "source": [
    "labels.shape"
   ]
  },
  {
   "cell_type": "code",
   "execution_count": 18,
   "metadata": {},
   "outputs": [
    {
     "data": {
      "text/plain": [
       "torch.Size([64, 1])"
      ]
     },
     "execution_count": 18,
     "metadata": {},
     "output_type": "execute_result"
    }
   ],
   "source": [
    "top_class.shape"
   ]
  },
  {
   "cell_type": "code",
   "execution_count": 19,
   "metadata": {},
   "outputs": [
    {
     "data": {
      "text/plain": [
       "tensor([[ True],\n",
       "        [False],\n",
       "        [False],\n",
       "        [False],\n",
       "        [False],\n",
       "        [False],\n",
       "        [False],\n",
       "        [False],\n",
       "        [False],\n",
       "        [False],\n",
       "        [False],\n",
       "        [False],\n",
       "        [False],\n",
       "        [False],\n",
       "        [False],\n",
       "        [False],\n",
       "        [False],\n",
       "        [False],\n",
       "        [ True],\n",
       "        [ True],\n",
       "        [False],\n",
       "        [False],\n",
       "        [False],\n",
       "        [ True],\n",
       "        [False],\n",
       "        [False],\n",
       "        [False],\n",
       "        [False],\n",
       "        [False],\n",
       "        [False],\n",
       "        [False],\n",
       "        [False],\n",
       "        [False],\n",
       "        [False],\n",
       "        [False],\n",
       "        [False],\n",
       "        [False],\n",
       "        [False],\n",
       "        [False],\n",
       "        [False],\n",
       "        [False],\n",
       "        [False],\n",
       "        [False],\n",
       "        [False],\n",
       "        [False],\n",
       "        [False],\n",
       "        [False],\n",
       "        [False],\n",
       "        [False],\n",
       "        [False],\n",
       "        [False],\n",
       "        [False],\n",
       "        [False],\n",
       "        [False],\n",
       "        [False],\n",
       "        [False],\n",
       "        [ True],\n",
       "        [False],\n",
       "        [False],\n",
       "        [False],\n",
       "        [False],\n",
       "        [False],\n",
       "        [False],\n",
       "        [False]])"
      ]
     },
     "execution_count": 19,
     "metadata": {},
     "output_type": "execute_result"
    }
   ],
   "source": [
    "top_class == labels.reshape(top_class.shape)"
   ]
  },
  {
   "cell_type": "code",
   "execution_count": 20,
   "metadata": {},
   "outputs": [
    {
     "data": {
      "text/plain": [
       "tensor([3, 2, 8, 8, 5, 2, 8, 1, 8, 7, 5, 1, 0, 6, 9, 4, 0, 5, 3, 3, 9, 1, 7, 3,\n",
       "        9, 6, 7, 5, 9, 7, 2, 1, 1, 7, 6, 0, 6, 8, 2, 9, 5, 1, 7, 1, 4, 4, 6, 8,\n",
       "        4, 0, 5, 0, 5, 9, 8, 5, 3, 4, 8, 2, 5, 0, 7, 6])"
      ]
     },
     "execution_count": 20,
     "metadata": {},
     "output_type": "execute_result"
    }
   ],
   "source": [
    "labels"
   ]
  },
  {
   "cell_type": "code",
   "execution_count": 21,
   "metadata": {},
   "outputs": [
    {
     "data": {
      "text/plain": [
       "torch.Size([64, 1])"
      ]
     },
     "execution_count": 21,
     "metadata": {},
     "output_type": "execute_result"
    }
   ],
   "source": [
    "equals = top_class == labels.reshape(top_class.shape)\n",
    "top_class.shape"
   ]
  },
  {
   "cell_type": "markdown",
   "metadata": {},
   "source": [
    "* 이제 분류가 성공한 비율을 찾기위해서 전체를 더하고 총수로 나누는 (평균)을 내면됩니다\n",
    "* `torch.mean`이 유용한데 \n",
    "* `torch.mean(equals)`를 실행하면\n",
    "\n",
    "```\n",
    "RuntimeError: mean is not implemented for type torch.ByteTensor\n",
    "```\n",
    "* `equals`를 float tensor로 변환하여 적용합니다\n"
   ]
  },
  {
   "cell_type": "code",
   "execution_count": 22,
   "metadata": {},
   "outputs": [
    {
     "name": "stdout",
     "output_type": "stream",
     "text": [
      "Accuracy: 7.8125%\n"
     ]
    }
   ],
   "source": [
    "accuracy = torch.mean(equals.type(torch.float))\n",
    "print(f'Accuracy: {accuracy*100}%')"
   ]
  },
  {
   "cell_type": "markdown",
   "metadata": {},
   "source": [
    "* 당연히 네트워크가 training이 안되었기 때문에 값이 랜덤하게 나옵니다\n",
    "* 이제 전체 test data (validation set)에 대한 loop를 완성하려 합니다 (위는 한 batch)\n",
    "* 아래 Exercise를 수행하는데 중요한 코드가 있습니다\n",
    "* `torch.no_grad():`는 tensor에 gradient 정보 없이 작업을 할때 사용합니다. 당연히 training이 없으니 network parameter를 업데이트할 필요가 없고, gradient 정보를 저장하는데 쓸데 없는 연산과 메모리 사용을 방지할 수 있습니다. Validation과정에서는 필수입니다! \n",
    "\n",
    "```python\n",
    "# turn off gradients\n",
    "with torch.no_grad():\n",
    "    # validation pass here\n",
    "    for images, labels in testloader:\n",
    "        ...\n",
    "```\n"
   ]
  },
  {
   "cell_type": "code",
   "execution_count": 23,
   "metadata": {},
   "outputs": [
    {
     "name": "stdout",
     "output_type": "stream",
     "text": [
      "Epoch: 1/30..  Training Loss: 0.485..  Validation Loss: 0.436..  Validation Accuracy: 0.840\n",
      "Epoch: 2/30..  Training Loss: 0.367..  Validation Loss: 0.373..  Validation Accuracy: 0.863\n",
      "Epoch: 3/30..  Training Loss: 0.332..  Validation Loss: 0.398..  Validation Accuracy: 0.854\n",
      "Epoch: 4/30..  Training Loss: 0.312..  Validation Loss: 0.382..  Validation Accuracy: 0.865\n",
      "Epoch: 5/30..  Training Loss: 0.296..  Validation Loss: 0.367..  Validation Accuracy: 0.873\n",
      "Epoch: 6/30..  Training Loss: 0.284..  Validation Loss: 0.358..  Validation Accuracy: 0.877\n",
      "Epoch: 7/30..  Training Loss: 0.274..  Validation Loss: 0.386..  Validation Accuracy: 0.870\n",
      "Epoch: 8/30..  Training Loss: 0.264..  Validation Loss: 0.347..  Validation Accuracy: 0.875\n",
      "Epoch: 9/30..  Training Loss: 0.258..  Validation Loss: 0.347..  Validation Accuracy: 0.879\n",
      "Epoch: 10/30..  Training Loss: 0.251..  Validation Loss: 0.379..  Validation Accuracy: 0.875\n",
      "Epoch: 11/30..  Training Loss: 0.241..  Validation Loss: 0.352..  Validation Accuracy: 0.884\n",
      "Epoch: 12/30..  Training Loss: 0.237..  Validation Loss: 0.364..  Validation Accuracy: 0.880\n",
      "Epoch: 13/30..  Training Loss: 0.230..  Validation Loss: 0.392..  Validation Accuracy: 0.871\n",
      "Epoch: 14/30..  Training Loss: 0.224..  Validation Loss: 0.373..  Validation Accuracy: 0.874\n",
      "Epoch: 15/30..  Training Loss: 0.215..  Validation Loss: 0.375..  Validation Accuracy: 0.882\n",
      "Epoch: 16/30..  Training Loss: 0.215..  Validation Loss: 0.381..  Validation Accuracy: 0.882\n",
      "Epoch: 17/30..  Training Loss: 0.207..  Validation Loss: 0.379..  Validation Accuracy: 0.880\n",
      "Epoch: 18/30..  Training Loss: 0.203..  Validation Loss: 0.398..  Validation Accuracy: 0.881\n",
      "Epoch: 19/30..  Training Loss: 0.197..  Validation Loss: 0.383..  Validation Accuracy: 0.884\n",
      "Epoch: 20/30..  Training Loss: 0.193..  Validation Loss: 0.387..  Validation Accuracy: 0.885\n",
      "Epoch: 21/30..  Training Loss: 0.196..  Validation Loss: 0.402..  Validation Accuracy: 0.884\n",
      "Epoch: 22/30..  Training Loss: 0.190..  Validation Loss: 0.413..  Validation Accuracy: 0.889\n",
      "Epoch: 23/30..  Training Loss: 0.187..  Validation Loss: 0.414..  Validation Accuracy: 0.886\n",
      "Epoch: 24/30..  Training Loss: 0.180..  Validation Loss: 0.399..  Validation Accuracy: 0.887\n",
      "Epoch: 25/30..  Training Loss: 0.178..  Validation Loss: 0.420..  Validation Accuracy: 0.886\n",
      "Epoch: 26/30..  Training Loss: 0.175..  Validation Loss: 0.450..  Validation Accuracy: 0.890\n",
      "Epoch: 27/30..  Training Loss: 0.176..  Validation Loss: 0.420..  Validation Accuracy: 0.882\n",
      "Epoch: 28/30..  Training Loss: 0.171..  Validation Loss: 0.431..  Validation Accuracy: 0.882\n",
      "Epoch: 29/30..  Training Loss: 0.161..  Validation Loss: 0.474..  Validation Accuracy: 0.879\n",
      "Epoch: 30/30..  Training Loss: 0.170..  Validation Loss: 0.493..  Validation Accuracy: 0.880\n"
     ]
    }
   ],
   "source": [
    "# 답 작성\n",
    "model = Classifier()   # 모델생성\n",
    "model.to(device)       # 디바이스 설정\n",
    "criterion = nn.CrossEntropyLoss()\n",
    "optimizer = optim.Adam(model.parameters(), lr=0.003)\n",
    "\n",
    "epochs = 30\n",
    "steps = 0\n",
    "\n",
    "train_losses, val_losses = [], []   # loss값을 epoch별로 저장하기 위해 빈 리스트 생성\n",
    "for e in range(epochs):\n",
    "    running_loss = 0\n",
    "    for images, labels in trainloader:\n",
    "        images = images.reshape(images.shape[0],-1).to(device)   # 이미지를 벡터로 reshape 후 디바이스에 저장\n",
    "        labels = labels.to(device)\n",
    "        \n",
    "\n",
    "        # 답작성: Training 코드 \n",
    "        optimizer.zero_grad()   # grad 초기화\n",
    "        logits = model(images)\n",
    "        loss = criterion(logits, labels)\n",
    "        loss.backward()\n",
    "        optimizer.step()\n",
    "        \n",
    "        #######################\n",
    "        running_loss += loss.item()\n",
    "        \n",
    "    \n",
    "    val_loss = 0\n",
    "    accuracy = 0\n",
    "\n",
    "\n",
    "    with torch.no_grad():   # gradient update (x), 성능만 확인\n",
    "        for images, labels in valloader:\n",
    "            images = images.reshape(images.shape[0],-1).to(device)\n",
    "            labels = labels.to(device)\n",
    "            logits = model(images)\n",
    "            val_loss += criterion(logits, labels).item()\n",
    "            \n",
    "            ps = sm(logits)\n",
    "            top_p, top_class = ps.topk(1, dim=1)\n",
    "            equals = top_class == labels.reshape(top_class.shape)\n",
    "            accuracy += torch.mean(equals.type(torch.float))\n",
    "\n",
    "\n",
    "            #######################\n",
    "\n",
    "    train_losses.append(running_loss/len(trainloader))\n",
    "    val_losses.append(val_loss/len(valloader))\n",
    "\n",
    "    print(\"Epoch: {}/{}.. \".format(e+1, epochs),\n",
    "          \"Training Loss: {:.3f}.. \".format(running_loss/len(trainloader)),\n",
    "          \"Validation Loss: {:.3f}.. \".format(val_loss/len(valloader)),\n",
    "          \"Validation Accuracy: {:.3f}\".format(accuracy/len(valloader)))"
   ]
  },
  {
   "cell_type": "code",
   "execution_count": 24,
   "metadata": {},
   "outputs": [],
   "source": [
    "%matplotlib inline\n",
    "%config InlineBackend.figure_format = 'retina'\n",
    "\n",
    "import matplotlib.pyplot as plt"
   ]
  },
  {
   "cell_type": "code",
   "execution_count": 25,
   "metadata": {},
   "outputs": [
    {
     "data": {
      "text/plain": [
       "Text(0, 0.5, 'loss')"
      ]
     },
     "execution_count": 25,
     "metadata": {},
     "output_type": "execute_result"
    },
    {
     "data": {
      "image/png": "[encoded data removed]",
      "text/plain": [
       "<Figure size 640x480 with 1 Axes>"
      ]
     },
     "metadata": {
      "image/png": {
       "height": 432,
       "width": 577
      }
     },
     "output_type": "display_data"
    }
   ],
   "source": [
    "plt.plot(train_losses, label='Training loss')\n",
    "plt.plot(val_losses, label='Validation loss')\n",
    "plt.legend(frameon=False)\n",
    "plt.xlabel('epoch')\n",
    "plt.ylabel('loss')"
   ]
  },
  {
   "cell_type": "markdown",
   "metadata": {},
   "source": [
    "## Overfitting\n",
    "\n",
    "* 위에서 수행한 결과를 살펴보면 overfitting 현상을 확인할 수 있습니다\n",
    "* 같지는 않지만, 아래와 같은 현상:\n",
    "\n",
    "![Classnote](https://drive.google.com/uc?export=download&id=1QOvGv2H28H0X94tkUo5VU40TPeSjpI9q)\n",
    "\n",
    "- Training loss는 점점 줄어드는 반면, validation loss는 일정 줄어들다가 다시 늘어나는 현상을 확인 할 수 있습니다. \n",
    "- 궁극적인 목적은 새로운 data에 대해서 잘 동작하는 것이기 때문에 가장 낮은 validation loss를 갖도록 하는것이 목표 입니다\n",
    "- 그래프에서 착안 할 수 있는 방법중 하나는 가장 낮아지는 epoch를 찾아서 멈추는 방법입니다. 이런 방법을 *early-stopping*이라고 합니다 \n",
    "- 실제 적용하는 practice에서는 많은 training을 수행하며, 그 중에서 가장 좋은 성능(lowest validation error)의 network을 선택합니다\n",
    "- Early stopping 이외에 매우 자주 사용되는 regularization 방법은 *dropout* 입니다\n",
    "- Dropout은 네트워크의 연결을 랜덤하게 일정 비율로 끊어버리는 방법입니다\n",
    "- Dropout이 왜 효과가 있는지는 이론 수업에서 다루도록 하겠습니다\n",
    "- Pytorch에서 dropout을 수행하는 방법은 [`nn.Dropout`](https://pytorch.org/docs/stable/nn.html#torch.nn.Dropout) module 통해서 합니다\n",
    "\n",
    "```python\n",
    "class Classifier(nn.Module):\n",
    "    def __init__(self):\n",
    "        super().__init__()\n",
    "        self.fc1 = None\n",
    "        self.fc2 = None\n",
    "        self.fc3 = None\n",
    "        self.fc4 = None\n",
    "        \n",
    "        # Dropout module with 0.2 drop probability\n",
    "        self.dropout = nn.Dropout(p=0.2)\n",
    "        \n",
    "    def forward(self, x):\n",
    "        # make sure input tensor is flattened\n",
    "        x = x.view(x.shape[0], -1)\n",
    "        \n",
    "        # Now with dropout\n",
    "        x = self.dropout(F.relu(self.fc1(x)))\n",
    "        x = self.dropout(F.relu(self.fc2(x)))\n",
    "        x = self.dropout(F.relu(self.fc3(x)))\n",
    "        \n",
    "        # output so no dropout here\n",
    "        x = self.fc4(x)\n",
    "        \n",
    "        return x\n",
    "```\n",
    "\n",
    "* 여기서 Dropout은 training 단계에서만 사용하고, validation에서는 전체 네트워크를 사용해야 합니다 (Why?)\n",
    "* 즉, validation 과정에서는 dropout을 비활성화 해야하죠\n",
    "  - 이를 위해서 `model.eval()`을 사용합니다\n",
    "  - 즉, `model.eval()` 모드 하에서는 droupout 확률이 0으로 동작합니다   \n",
    "  - 다시 dropout를 수행할때는 `model.train()`으로 활성화 합니다\n",
    "  - 일반적으로 아래와 같이 동작하죠\n",
    "    1. Validation loop에서 gradient를 끄고, model을 evaluation mode로 설정\n",
    "    2. validation loss를 계산하고 \n",
    "    3. 다시 train mode로 변경 \n",
    "    \n",
    "```python\n",
    "# turn off gradients\n",
    "with torch.no_grad():\n",
    "    \n",
    "    # set model to evaluation mode\n",
    "    model.eval()\n",
    "    \n",
    "    # validation pass here\n",
    "    for images, labels in testloader:\n",
    "        ...\n",
    "\n",
    "# set model back to train mode\n",
    "model.train()\n",
    "```"
   ]
  },
  {
   "cell_type": "markdown",
   "metadata": {},
   "source": [
    "**Problem 3:** \n",
    "\n",
    "- 아래 코드에서 dropout를 사용하기 위한 필요한 곳을 수정/채워 주세요\n",
    "- model 에 dropout 적용, model.eval, model.train 등\n",
    "- 아래 코드는 위에 적용했던 코드 problem 1 부분 제외한 모음입니다\n",
    "- Template이라고 생각학고 적용하시면 됩니다"
   ]
  },
  {
   "cell_type": "code",
   "execution_count": 29,
   "metadata": {},
   "outputs": [],
   "source": [
    "class Classifier(nn.Module):\n",
    "    \n",
    "    # 앞 문제에서 작성한 network에 dropout 적용\n",
    "    def __init__(self):\n",
    "        super().__init__()\n",
    "        \n",
    "        self.fc1 = nn.Linear(784,256)\n",
    "        self.fc2 = nn.Linear(256,128)\n",
    "        self.fc3 = nn.Linear(128,64)\n",
    "        self.fc4 = nn.Linear(64,10)\n",
    "        self.relu = nn.ReLU(True)\n",
    "        \n",
    "        self.dropout = nn.Dropout(p=0.2)\n",
    "\n",
    "    def forward(self, x):\n",
    "        # Now with dropout\n",
    "        x = self.dropout(self.relu(self.fc1(x)))\n",
    "        x = self.dropout(self.relu(self.fc2(x)))\n",
    "        x = self.dropout(self.relu(self.fc3(x)))\n",
    "        \n",
    "        x = self.fc4(x)   # 마지막 layer에는 relu 적용 x -> dropout도 적용 x, 모든 클래스에 대하여 확률을 예측해야함\n",
    "\n",
    "        return x\n",
    "    ##############################"
   ]
  },
  {
   "cell_type": "code",
   "execution_count": null,
   "metadata": {},
   "outputs": [
    {
     "name": "stdout",
     "output_type": "stream",
     "text": [
      "Epoch: 1/30..  Training Loss: 0.566..  Validation Loss: 0.465..  Validation Accuracy: 0.831\n",
      "Epoch: 2/30..  Training Loss: 0.453..  Validation Loss: 0.417..  Validation Accuracy: 0.849\n",
      "Epoch: 3/30..  Training Loss: 0.426..  Validation Loss: 0.429..  Validation Accuracy: 0.845\n",
      "Epoch: 4/30..  Training Loss: 0.411..  Validation Loss: 0.387..  Validation Accuracy: 0.862\n",
      "Epoch: 5/30..  Training Loss: 0.393..  Validation Loss: 0.384..  Validation Accuracy: 0.864\n",
      "Epoch: 6/30..  Training Loss: 0.388..  Validation Loss: 0.372..  Validation Accuracy: 0.871\n"
     ]
    }
   ],
   "source": [
    "    model = Classifier()\n",
    "    model.to(device)\n",
    "    criterion = nn.CrossEntropyLoss()\n",
    "    optimizer = optim.Adam(model.parameters(), lr=0.003)\n",
    "\n",
    "    epochs = 30\n",
    "    steps = 0\n",
    "\n",
    "    train_losses, val_losses = [], []\n",
    "    for e in range(epochs):\n",
    "        running_loss = 0\n",
    "\n",
    "\n",
    "        for images, labels in trainloader:\n",
    "            images = images.reshape(images.shape[0],-1).to(device)\n",
    "            labels = labels.to(device)\n",
    "\n",
    "\n",
    "            # training 답 작성 \n",
    "            optimizer.zero_grad()   # grad 초기화\n",
    "            logits = model(images)\n",
    "            loss = criterion(logits, labels)\n",
    "            loss.backward()\n",
    "            optimizer.step()\n",
    "\n",
    "            #######################\n",
    "            running_loss += loss.item()\n",
    "\n",
    "\n",
    "        val_loss = 0\n",
    "        accuracy = 0\n",
    "\n",
    "        # Gradient를 계산할 필요 없으니 비활성화 \n",
    "        with torch.no_grad():\n",
    "            model.eval()   # dropout 종료\n",
    "            for images, labels in valloader:\n",
    "                images = images.reshape(images.shape[0],-1).to(device)\n",
    "                labels = labels.to(device)\n",
    "                logits = model(images)\n",
    "                val_loss += criterion(logits, labels).item()\n",
    "\n",
    "                ps = sm(logits)\n",
    "                top_p, top_class = ps.topk(1, dim=1)\n",
    "                equals = top_class == labels.reshape(top_class.shape)\n",
    "                accuracy += torch.mean(equals.type(torch.float))\n",
    "\n",
    "                ##################\n",
    "\n",
    "        model.train()   # train 모드로 변경\n",
    "        train_losses.append(running_loss/len(trainloader))\n",
    "        val_losses.append(val_loss/len(valloader))\n",
    "\n",
    "        print(\"Epoch: {}/{}.. \".format(e+1, epochs),\n",
    "                  \"Training Loss: {:.3f}.. \".format(train_losses[-1]),\n",
    "                  \"Validation Loss: {:.3f}.. \".format(val_losses[-1]),\n",
    "                  \"Validation Accuracy: {:.3f}\".format(accuracy/len(valloader)))"
   ]
  },
  {
   "cell_type": "code",
   "execution_count": null,
   "metadata": {},
   "outputs": [],
   "source": [
    "%matplotlib inline\n",
    "%config InlineBackend.figure_format = 'retina'\n",
    "\n",
    "import matplotlib.pyplot as plt"
   ]
  },
  {
   "cell_type": "code",
   "execution_count": null,
   "metadata": {},
   "outputs": [],
   "source": [
    "plt.plot(train_losses[:30], label='Training loss')\n",
    "plt.plot(val_losses[:30], label='Validation loss')\n",
    "plt.legend(frameon=False)"
   ]
  },
  {
   "cell_type": "markdown",
   "metadata": {},
   "source": [
    "###### Inference\n",
    "\n",
    "* 이제 실제 적용하는 예입니다 (inference)\n",
    "* 내가 분류작업을 한다고 생각학고 traning이 끝난 네트워크에 적용합니다\n",
    "* 당연히 model.eval()과 gradient는 비활성화합니다"
   ]
  },
  {
   "cell_type": "code",
   "execution_count": null,
   "metadata": {},
   "outputs": [],
   "source": [
    "# Import helper module (should be in the repo)\n",
    "import helper\n",
    "\n",
    "# Test out your network!\n",
    "\n",
    "model.eval()\n",
    "\n",
    "dataiter = iter(valloader)\n",
    "images, labels = dataiter.next()\n",
    "images = images.reshape(images.shape[0],-1).to(device)\n",
    "labels = labels.to(device)\n",
    "img = images[0]\n",
    "# Convert 2D image to 1D vector\n",
    "img = img.view(1, 784)\n",
    "\n",
    "# Calculate the class probabilities (softmax) for img\n",
    "with torch.no_grad():\n",
    "    output = model.forward(img)\n",
    "\n",
    "ps = sm(output)\n",
    "\n",
    "# Plot the image and probabilities\n",
    "img = img.cpu()\n",
    "ps = ps.cpu()\n",
    "helper.view_classify(img.view(1, 28, 28), ps, version='Fashion')"
   ]
  }
 ],
 "metadata": {
  "kernelspec": {
   "display_name": "Python 3 (ipykernel)",
   "language": "python",
   "name": "python3"
  },
  "language_info": {
   "codemirror_mode": {
    "name": "ipython",
    "version": 3
   },
   "file_extension": ".py",
   "mimetype": "text/x-python",
   "name": "python",
   "nbconvert_exporter": "python",
   "pygments_lexer": "ipython3",
   "version": "3.9.13"
  },
  "toc": {
   "base_numbering": 1,
   "nav_menu": {},
   "number_sections": true,
   "sideBar": true,
   "skip_h1_title": false,
   "title_cell": "Table of Contents",
   "title_sidebar": "Contents",
   "toc_cell": false,
   "toc_position": {},
   "toc_section_display": true,
   "toc_window_display": false
  }
 },
 "nbformat": 4,
 "nbformat_minor": 4
}
