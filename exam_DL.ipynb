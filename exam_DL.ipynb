{
 "cells": [
  {
   "cell_type": "code",
   "execution_count": 1,
   "id": "5dbe54f4-09c5-403c-a51f-0c0c483a26dd",
   "metadata": {},
   "outputs": [],
   "source": [
    "import numpy as np\n",
    "import time"
   ]
  },
  {
   "cell_type": "code",
   "execution_count": 26,
   "id": "f6b741d2-725c-4bf1-8d7d-e2586d36644f",
   "metadata": {},
   "outputs": [
    {
     "name": "stdout",
     "output_type": "stream",
     "text": [
      "c= 1124.5782408360128\n",
      "matmul time 1.939535140991211ms\n",
      "cloop =  1124.5782408359796\n",
      "loop time =383.7592601776123ms\n"
     ]
    }
   ],
   "source": [
    "n = 1000000\n",
    "a = np.random.randn(n)\n",
    "b = np.random.randn(n)\n",
    "\n",
    "tic = time.time()\n",
    "c = np.matmul(a,b) \n",
    "toc = time.time()\n",
    "print('c=', c)\n",
    "print('matmul time ' + str(1000*(toc-tic))+ 'ms')\n",
    "\n",
    "cloop = 0\n",
    "tic = time.time()\n",
    "for i in range(n):\n",
    "    cloop += a[i]*b[i]\n",
    "toc = time.time()\n",
    "print('cloop = ', cloop)\n",
    "print('loop time =' + str(1000*(toc - tic))+'ms')\n",
    "\n"
   ]
  },
  {
   "cell_type": "code",
   "execution_count": null,
   "id": "946483cd-e4e4-4bee-a785-cc9638ed9a05",
   "metadata": {},
   "outputs": [],
   "source": []
  }
 ],
 "metadata": {
  "kernelspec": {
   "display_name": "Python 3 (ipykernel)",
   "language": "python",
   "name": "python3"
  },
  "language_info": {
   "codemirror_mode": {
    "name": "ipython",
    "version": 3
   },
   "file_extension": ".py",
   "mimetype": "text/x-python",
   "name": "python",
   "nbconvert_exporter": "python",
   "pygments_lexer": "ipython3",
   "version": "3.9.13"
  }
 },
 "nbformat": 4,
 "nbformat_minor": 5
}
