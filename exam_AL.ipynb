{
 "cells": [
  {
   "cell_type": "code",
   "execution_count": 1,
   "id": "d9623b72-99c8-4cde-854b-e665571c1053",
   "metadata": {},
   "outputs": [],
   "source": [
    "import numpy as np"
   ]
  },
  {
   "cell_type": "markdown",
   "id": "bbe28ef0-a7fe-4dfa-845a-68c00f72ef2c",
   "metadata": {},
   "source": [
    "* 3주차 강의 연습"
   ]
  },
  {
   "cell_type": "code",
   "execution_count": 2,
   "id": "ec1aef0f-d60b-4c75-87e2-251c8eb9d873",
   "metadata": {},
   "outputs": [
    {
     "data": {
      "text/plain": [
       "array([[5, 6, 7],\n",
       "       [6, 7, 5]])"
      ]
     },
     "execution_count": 2,
     "metadata": {},
     "output_type": "execute_result"
    }
   ],
   "source": [
    "x1 = np.array([[5],[6],[7]])\n",
    "x2 = np.array([[6],[7],[5]])\n",
    "\n",
    "x1t = x1.T\n",
    "x2t = x2.T\n",
    "\n",
    "X = np.vstack([x1t, x2t])\n",
    "X"
   ]
  },
  {
   "cell_type": "code",
   "execution_count": 3,
   "id": "8c413b7b-90c3-401e-9252-398a33b95b04",
   "metadata": {},
   "outputs": [
    {
     "data": {
      "text/plain": [
       "array([[5, 6, 7, 6, 7, 5]])"
      ]
     },
     "execution_count": 3,
     "metadata": {},
     "output_type": "execute_result"
    }
   ],
   "source": [
    "Xh = np.hstack([x1t, x2t])\n",
    "Xh"
   ]
  },
  {
   "cell_type": "code",
   "execution_count": 4,
   "id": "62005e0f-c55d-49d7-a91e-8dcf4b1f21d5",
   "metadata": {},
   "outputs": [
    {
     "data": {
      "text/plain": [
       "array([[5],\n",
       "       [6],\n",
       "       [7],\n",
       "       [6],\n",
       "       [7],\n",
       "       [5]])"
      ]
     },
     "execution_count": 4,
     "metadata": {},
     "output_type": "execute_result"
    }
   ],
   "source": [
    "Xv = np.vstack([x1,x2])\n",
    "Xv"
   ]
  },
  {
   "cell_type": "markdown",
   "id": "561ec4ec-bec1-4e41-bfce-3e8ddf1c3d0b",
   "metadata": {},
   "source": [
    "* 연습용 행렬을 만들 경우"
   ]
  },
  {
   "cell_type": "code",
   "execution_count": 5,
   "id": "4e888eb4-d782-406a-a2bd-e4ca9389e912",
   "metadata": {},
   "outputs": [
    {
     "data": {
      "text/plain": [
       "array([[0., 0., 0., 0.],\n",
       "       [0., 0., 0., 0.]])"
      ]
     },
     "execution_count": 5,
     "metadata": {},
     "output_type": "execute_result"
    }
   ],
   "source": [
    "onevecs = np.ones((3,4))\n",
    "onevecs\n",
    "\n",
    "zevecs = np.zeros((2,4))\n",
    "zevecs\n",
    "\n",
    "# 차원을 괄호 안에 튜플 형태로 표현"
   ]
  },
  {
   "cell_type": "code",
   "execution_count": 6,
   "id": "24d694b1-09df-47fb-8f3e-05be72bb9c50",
   "metadata": {},
   "outputs": [
    {
     "data": {
      "text/plain": [
       "array([0, 3, 6])"
      ]
     },
     "execution_count": 6,
     "metadata": {},
     "output_type": "execute_result"
    }
   ],
   "source": [
    "x = np.arange(0,9,3)\n",
    "x\n",
    "\n",
    "# (시작, 미만, 원소 간 간격[기본 간격 : 1])"
   ]
  },
  {
   "cell_type": "code",
   "execution_count": 7,
   "id": "a942cf2a-9267-4b21-a620-c50913b5eed4",
   "metadata": {},
   "outputs": [
    {
     "data": {
      "text/plain": [
       "array([2., 5., 8.])"
      ]
     },
     "execution_count": 7,
     "metadata": {},
     "output_type": "execute_result"
    }
   ],
   "source": [
    "y = np.linspace(2, 8, 3)\n",
    "y\n",
    "\n",
    "# (시작, 끝, 만들고 싶은 원소의 개수[균일한 간격])"
   ]
  },
  {
   "cell_type": "code",
   "execution_count": 8,
   "id": "a0238909-e0dc-4400-9944-745311e1935b",
   "metadata": {},
   "outputs": [
    {
     "data": {
      "text/plain": [
       "array([[0.18348927, 0.2078878 , 0.22168901]])"
      ]
     },
     "execution_count": 8,
     "metadata": {},
     "output_type": "execute_result"
    }
   ],
   "source": [
    "d = np.random.rand(1,3)\n",
    "d\n",
    "\n",
    "# rand(m,n) -> mxn 행렬 생성 (0과 1 사이에서 균일한 분포 랜덤 숫자)\n",
    "# 사칙연산으로 생성하고 싶은 숫자 범위 지정 가능"
   ]
  },
  {
   "cell_type": "code",
   "execution_count": 9,
   "id": "ba0b2a69-cbc3-4932-9a85-730f5b1aeeb9",
   "metadata": {},
   "outputs": [
    {
     "data": {
      "text/plain": [
       "array([[ 1.1770649 , -0.25502111, -0.14981746,  0.6360459 ],\n",
       "       [-0.02652473,  1.34682938, -0.81535719, -1.42352886],\n",
       "       [-0.46685116,  1.63953852,  0.15639331,  0.55572579]])"
      ]
     },
     "execution_count": 9,
     "metadata": {},
     "output_type": "execute_result"
    }
   ],
   "source": [
    "e = np.random.randn(3,4)\n",
    "e\n",
    "\n",
    "# pdf에서 (3,4) 행렬을 랜덤으로 생성\n",
    "# 평균(+-), 분산(*/)"
   ]
  },
  {
   "cell_type": "markdown",
   "id": "845a00f1-dee2-44ab-92b7-d345526f48f8",
   "metadata": {},
   "source": [
    "* 4주차 강의"
   ]
  },
  {
   "cell_type": "code",
   "execution_count": 10,
   "id": "cead47ba-5d88-4d8c-beb8-8cc88d1b61de",
   "metadata": {},
   "outputs": [
    {
     "data": {
      "text/plain": [
       "array([[0, 1, 2],\n",
       "       [3, 4, 5]])"
      ]
     },
     "execution_count": 10,
     "metadata": {},
     "output_type": "execute_result"
    }
   ],
   "source": [
    "# 행렬곱\n",
    "\n",
    "A = np.arange(0,6).reshape(2,3)\n",
    "A"
   ]
  },
  {
   "cell_type": "code",
   "execution_count": 11,
   "id": "71726afa-bfdf-4ff2-9394-e41a7ea866da",
   "metadata": {},
   "outputs": [
    {
     "data": {
      "text/plain": [
       "array([[ 0.86576043, -1.28983522,  1.68328971, -0.14631309],\n",
       "       [ 0.21729119, -1.52402731,  0.10244413,  0.07880774],\n",
       "       [-1.1727502 ,  0.10058624,  0.44941119,  0.14535485]])"
      ]
     },
     "execution_count": 11,
     "metadata": {},
     "output_type": "execute_result"
    }
   ],
   "source": [
    "B = np.random.randn(3,4)\n",
    "B"
   ]
  },
  {
   "cell_type": "code",
   "execution_count": 12,
   "id": "b065a198-28f5-43a3-befd-34f443bdccee",
   "metadata": {},
   "outputs": [
    {
     "data": {
      "text/plain": [
       "array([[-2.12820921, -1.32285482,  1.0012665 ,  0.36951744],\n",
       "       [-2.39730495, -9.46268369,  7.70670156,  0.60306592]])"
      ]
     },
     "execution_count": 12,
     "metadata": {},
     "output_type": "execute_result"
    }
   ],
   "source": [
    "np.matmul(A, B)\n",
    "# 순서 중요(차원이 맞지 않으면 에러)\n",
    "# 아래 두 가지도 같은 연산 결과를 보여주지만 matmul연산이 가장 빈번하게 사용    "
   ]
  },
  {
   "cell_type": "code",
   "execution_count": 13,
   "id": "6edf8b89-587e-488f-b020-e5c1995610cc",
   "metadata": {},
   "outputs": [
    {
     "data": {
      "text/plain": [
       "array([[-2.12820921, -1.32285482,  1.0012665 ,  0.36951744],\n",
       "       [-2.39730495, -9.46268369,  7.70670156,  0.60306592]])"
      ]
     },
     "execution_count": 13,
     "metadata": {},
     "output_type": "execute_result"
    }
   ],
   "source": [
    "np.dot(A, B)\n",
    "# 벡터(행렬) 내적 연산\n",
    "# matmul연산과 dot연산은 다른 알고리즘이지만 2차원 행렬을 연산할 때는 같은 결과를 보여준다."
   ]
  },
  {
   "cell_type": "code",
   "execution_count": 14,
   "id": "7565fd9e-2c8f-4296-82c5-ade396cb0815",
   "metadata": {},
   "outputs": [
    {
     "data": {
      "text/plain": [
       "array([[-2.12820921, -1.32285482,  1.0012665 ,  0.36951744],\n",
       "       [-2.39730495, -9.46268369,  7.70670156,  0.60306592]])"
      ]
     },
     "execution_count": 14,
     "metadata": {},
     "output_type": "execute_result"
    }
   ],
   "source": [
    "A@B"
   ]
  },
  {
   "cell_type": "code",
   "execution_count": null,
   "id": "e1f08ba1-1d16-4607-aa8f-78d7ec3c1e56",
   "metadata": {},
   "outputs": [],
   "source": []
  },
  {
   "cell_type": "code",
   "execution_count": 15,
   "id": "389e3b89-21c1-4a6b-b1c3-1f9120fc5d61",
   "metadata": {},
   "outputs": [
    {
     "data": {
      "text/plain": [
       "array([0., 2., 4., 6.])"
      ]
     },
     "execution_count": 15,
     "metadata": {},
     "output_type": "execute_result"
    }
   ],
   "source": [
    "# 내적 연습\n",
    "a = np.linspace(0,6,4)\n",
    "a"
   ]
  },
  {
   "cell_type": "code",
   "execution_count": 16,
   "id": "573b3051-582b-48f0-95ae-b5dc747a1cc5",
   "metadata": {},
   "outputs": [
    {
     "data": {
      "text/plain": [
       "array([[1.],\n",
       "       [1.],\n",
       "       [1.],\n",
       "       [1.]])"
      ]
     },
     "execution_count": 16,
     "metadata": {},
     "output_type": "execute_result"
    }
   ],
   "source": [
    "b = np.ones((4,1))\n",
    "b"
   ]
  },
  {
   "cell_type": "code",
   "execution_count": 17,
   "id": "71032318-2b79-4451-8727-93733d7d8c26",
   "metadata": {},
   "outputs": [
    {
     "data": {
      "text/plain": [
       "array([12.])"
      ]
     },
     "execution_count": 17,
     "metadata": {},
     "output_type": "execute_result"
    }
   ],
   "source": [
    "np.matmul(a,b)"
   ]
  },
  {
   "cell_type": "code",
   "execution_count": 18,
   "id": "02c1b263-1f04-4ba0-9eda-062191df8950",
   "metadata": {},
   "outputs": [
    {
     "data": {
      "text/plain": [
       "numpy.ndarray"
      ]
     },
     "execution_count": 18,
     "metadata": {},
     "output_type": "execute_result"
    }
   ],
   "source": [
    "type(np.matmul(a,b))\n",
    "# a와 b를 내적 했을 때, 결과깂이 scalar지만 return 값은 array"
   ]
  },
  {
   "cell_type": "code",
   "execution_count": 19,
   "id": "47258f75-9528-4214-86fc-01c6299b0d67",
   "metadata": {},
   "outputs": [
    {
     "data": {
      "text/plain": [
       "array([[0., 2., 4., 6.]])"
      ]
     },
     "execution_count": 19,
     "metadata": {},
     "output_type": "execute_result"
    }
   ],
   "source": [
    "a = np.linspace(0,6,4).reshape(1,4)\n",
    "a"
   ]
  },
  {
   "cell_type": "code",
   "execution_count": 20,
   "id": "36eaca4a-e0c1-4b45-b3e3-d048ce87f91d",
   "metadata": {},
   "outputs": [
    {
     "data": {
      "text/plain": [
       "array([[12.]])"
      ]
     },
     "execution_count": 20,
     "metadata": {},
     "output_type": "execute_result"
    }
   ],
   "source": [
    "np.matmul(a,b)"
   ]
  },
  {
   "cell_type": "code",
   "execution_count": 21,
   "id": "c65e9586-11a2-43de-855b-93fed28e8782",
   "metadata": {},
   "outputs": [
    {
     "data": {
      "text/plain": [
       "array(12.)"
      ]
     },
     "execution_count": 21,
     "metadata": {},
     "output_type": "execute_result"
    }
   ],
   "source": [
    "np.matmul(a,b).squeeze()\n",
    "# squeeze 명령어를 사용해서 scalar값으로 만들 수 있음(0차원)"
   ]
  },
  {
   "cell_type": "code",
   "execution_count": 22,
   "id": "a6417cd2-ddee-46e4-b687-04989bf33fd4",
   "metadata": {},
   "outputs": [
    {
     "data": {
      "text/plain": [
       "12.0"
      ]
     },
     "execution_count": 22,
     "metadata": {},
     "output_type": "execute_result"
    }
   ],
   "source": [
    "np.matmul(a,b)[0,0]\n",
    "#array를 scalar 바꾸는 간단한 방법"
   ]
  },
  {
   "cell_type": "code",
   "execution_count": null,
   "id": "b5791cac-7e01-4dd8-adde-1668d14892c1",
   "metadata": {},
   "outputs": [],
   "source": []
  },
  {
   "cell_type": "code",
   "execution_count": null,
   "id": "7e298f23-5124-42fa-b064-69efc73d0847",
   "metadata": {},
   "outputs": [],
   "source": []
  }
 ],
 "metadata": {
  "kernelspec": {
   "display_name": "Python 3 (ipykernel)",
   "language": "python",
   "name": "python3"
  },
  "language_info": {
   "codemirror_mode": {
    "name": "ipython",
    "version": 3
   },
   "file_extension": ".py",
   "mimetype": "text/x-python",
   "name": "python",
   "nbconvert_exporter": "python",
   "pygments_lexer": "ipython3",
   "version": "3.9.13"
  }
 },
 "nbformat": 4,
 "nbformat_minor": 5
}
